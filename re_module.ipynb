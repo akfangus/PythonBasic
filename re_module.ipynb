{
 "cells": [
  {
   "cell_type": "code",
   "execution_count": 6,
   "id": "c8ff89a6",
   "metadata": {},
   "outputs": [],
   "source": [
    "import re"
   ]
  },
  {
   "cell_type": "markdown",
   "id": "3501b90a",
   "metadata": {},
   "source": [
    "## 정규식(또는 RE)은 일치하는 문자열 집합을 지정합니다\n",
    "- 정규식은 특수문자와 일반문자를 모두 포함할 수 있음.\n",
    "- 특정한 패턴과 일치하는 문자열을 '검색','치환','제거' 등 기능을 제공\n"
   ]
  },
  {
   "cell_type": "code",
   "execution_count": 4,
   "id": "c8bddd8e",
   "metadata": {},
   "outputs": [
    {
     "name": "stdout",
     "output_type": "stream",
     "text": [
      "aasdf\n",
      "\n",
      "asdf\\n\n"
     ]
    }
   ],
   "source": [
    "# 문자열 앞에 r이 붙으면 해당 문자열이 포함된 문자열이 반환되어짐\n",
    "a = 'aasdf\\n'\n",
    "print(a)\n",
    "b = r'asdf\\n'\n",
    "print(b)"
   ]
  },
  {
   "cell_type": "code",
   "execution_count": 13,
   "id": "29d4fb03",
   "metadata": {},
   "outputs": [
    {
     "data": {
      "text/plain": [
       "<re.Match object; span=(0, 1), match='p'>"
      ]
     },
     "execution_count": 13,
     "metadata": {},
     "output_type": "execute_result"
    }
   ],
   "source": []
  },
  {
   "cell_type": "code",
   "execution_count": 16,
   "id": "2cdb0d47",
   "metadata": {},
   "outputs": [
    {
     "data": {
      "text/plain": [
       "'\\n반복(*)\\nca*t\\n반복 전의 문자가 여러개 있는걸 매치 (0번도됨)\\n1. ct = a가 0개라서 매치됨\\n2. caaat = 매치됨\\n\\n반복(+)\\n=> 이거는 0번은 매칭되지안ㅇ흠\\nex) ct=>매치되지않음\\n\\n반복 ({m,n}, ?)\\nca{2}t\\n=> 정확히 a가 2번 반복인것만 매칭\\nca{2,5}t\\n=> a가 2 이상 5이하로 반복된 것만 매칭\\n\\n물음표\\nab?c\\n1개 있거나 없거나 매칭\\n1. abc = b가 1개 있어서 매칭\\n2. ac = b가없어서 매칭\\n\\n'"
      ]
     },
     "execution_count": 16,
     "metadata": {},
     "output_type": "execute_result"
    }
   ],
   "source": [
    "'''\n",
    "대괄호\n",
    "[abc]\n",
    "[] 사이의 문자들과 매치\n",
    "1. a = 매치됨\n",
    "2. before = 매치됨\n",
    "3. dude = 매치안됨\n",
    "하이픈으로 [a-z] 이렇게 소문자만 매칭 할수 있게 할 수 있음.\n",
    "'''\n",
    "'''\n",
    "dot(.)\n",
    "a.b\n",
    "줄바꿈(\\n)을 제외한 모든 문자와 매치\n",
    "1. aab = 매치됨\n",
    "2. a0b = 매치됨\n",
    "3. abc = a와 b사이에 문자가 없어서 매치 안됨\n",
    "\n",
    "'''\n",
    "\n",
    "'''\n",
    "반복(*)\n",
    "ca*t\n",
    "반복 전의 문자가 여러개 있는걸 매치 (0번도됨)\n",
    "1. ct = a가 0개라서 매치됨\n",
    "2. caaat = 매치됨\n",
    "\n",
    "반복(+)\n",
    "=> 이거는 0번은 매칭되지안ㅇ흠\n",
    "ex) ct=>매치되지않음\n",
    "\n",
    "반복 ({m,n}, ?)\n",
    "ca{2}t\n",
    "=> 정확히 a가 2번 반복인것만 매칭\n",
    "ca{2,5}t\n",
    "=> a가 2 이상 5이하로 반복된 것만 매칭\n",
    "\n",
    "물음표\n",
    "ab?c\n",
    "1개 있거나 없거나 매칭\n",
    "1. abc = b가 1개 있어서 매칭\n",
    "2. ac = b가없어서 매칭\n",
    "\n",
    "'''"
   ]
  },
  {
   "cell_type": "code",
   "execution_count": 19,
   "id": "967c047f",
   "metadata": {},
   "outputs": [
    {
     "name": "stdout",
     "output_type": "stream",
     "text": [
      "<re.Match object; span=(0, 6), match='python'>\n",
      "None\n"
     ]
    }
   ],
   "source": [
    "# re 모듈의 사용방법?\n",
    "# 1. re.complie로 컴파일해서  패턴 객체를 생성\n",
    "# match search, findall, finditer 4개를 쓸수잇음.\n",
    "p = re.compile('[a-z]+')\n",
    "\n",
    "m = p.match('python')\n",
    "print(m)\n",
    "# 전체를 기준으로 매칭이 안되면 None을 return\n",
    "m2 = p.match('3 python')\n",
    "print(m2)"
   ]
  },
  {
   "cell_type": "code",
   "execution_count": 20,
   "id": "5ff01cf5",
   "metadata": {},
   "outputs": [
    {
     "name": "stdout",
     "output_type": "stream",
     "text": [
      "<re.Match object; span=(0, 6), match='python'>\n",
      "<re.Match object; span=(2, 8), match='python'>\n"
     ]
    }
   ],
   "source": [
    "s = p.search('python')\n",
    "print(s)\n",
    "# search는 일치하는 부분을 찾아서 return해줌\n",
    "s2 = p.search('3 python')\n",
    "print(s2)"
   ]
  },
  {
   "cell_type": "code",
   "execution_count": 27,
   "id": "1fd90a33",
   "metadata": {},
   "outputs": [
    {
     "name": "stdout",
     "output_type": "stream",
     "text": [
      "['life', 'is', 'too', 'short']\n",
      "<callable_iterator object at 0x00000211880C5400>\n"
     ]
    },
    {
     "data": {
      "text/plain": [
       "[<re.Match object; span=(0, 4), match='life'>,\n",
       " <re.Match object; span=(5, 7), match='is'>,\n",
       " <re.Match object; span=(8, 11), match='too'>,\n",
       " <re.Match object; span=(12, 17), match='short'>]"
      ]
     },
     "execution_count": 27,
     "metadata": {},
     "output_type": "execute_result"
    }
   ],
   "source": [
    "# findeall은 일치하는 str를 리스트에 담아서 리턴해줌.\n",
    "f = p.findall('life is too short')\n",
    "print(f)\n",
    "# finditer는 iter object가 리턴되어짐.\n",
    "f2 = p.finditer('life is too short')\n",
    "print(f2)\n",
    "# 이렇게 for 문 돌려보면 각각 match객체가 들어있음.\n",
    "[i for i in f2]"
   ]
  },
  {
   "cell_type": "markdown",
   "id": "a2fa2adf",
   "metadata": {},
   "source": [
    "### Match 객체?\n",
    "\n",
    "- match 객체의 메소드\n",
    "1. group() : 매치된 문자열을 리턴\n",
    "2. start() : 매치된 문자열의 시작 위치를 리턴\n",
    "3. end() : 매치된 문자열의 긑 위치를 리턴\n",
    "4. span() : 매치된 문자열의 (시작,끝)에 해당되는 튜플을 리턴\n"
   ]
  },
  {
   "cell_type": "code",
   "execution_count": 28,
   "id": "4a058732",
   "metadata": {},
   "outputs": [
    {
     "name": "stdout",
     "output_type": "stream",
     "text": [
      "python\n",
      "0\n",
      "6\n",
      "(0, 6)\n"
     ]
    }
   ],
   "source": [
    "p = re.compile('[a-z]+')\n",
    "m = p.match('python')\n",
    "print(m.group())\n",
    "print(m.start())\n",
    "print(m.end())\n",
    "print(m.span())\n"
   ]
  },
  {
   "cell_type": "code",
   "execution_count": null,
   "id": "2ed9bf44",
   "metadata": {},
   "outputs": [],
   "source": []
  },
  {
   "cell_type": "code",
   "execution_count": 35,
   "id": "61ec8dad",
   "metadata": {},
   "outputs": [
    {
     "name": "stdout",
     "output_type": "stream",
     "text": [
      "<re.Match object; span=(0, 14), match='python qwero12'>\n"
     ]
    }
   ],
   "source": [
    "# 정규표현식 해석\n",
    "# ^는 맨처음을 지정\n",
    "# \\s 는 공백\n",
    "# \\w는 단어 (문자, 숫자, _중 하나)\n",
    "# 즉 python 으로 시작하고 다음에 공백을 포함해서 뒤에는 어떤 단어들이 있어야함.\n",
    "# ex => python qweroiuasdfm 이면 매칭이됨.\n",
    "#\n",
    "p = re.compile('^python\\s\\w+')\n",
    "m = p.match('python qwero12!3iuasdfm')\n",
    "print(m)"
   ]
  },
  {
   "cell_type": "code",
   "execution_count": null,
   "id": "d1990e13",
   "metadata": {},
   "outputs": [],
   "source": []
  },
  {
   "cell_type": "code",
   "execution_count": 40,
   "id": "df87f241",
   "metadata": {},
   "outputs": [
    {
     "name": "stdout",
     "output_type": "stream",
     "text": [
      "<re.Match object; span=(0, 4), match='Crow'>\n",
      "<re.Match object; span=(0, 5), match='Servo'>\n"
     ]
    }
   ],
   "source": [
    "# 정규표현식 메타문자 (|)\n",
    "# or과 같은 역할\n",
    "p = re.compile('Crow|Servo')\n",
    "m = p.match('CrowHello')\n",
    "m2 = p.match('ServoHello')\n",
    "print(m)\n",
    "print(m2)"
   ]
  },
  {
   "cell_type": "code",
   "execution_count": 47,
   "id": "338dc80d",
   "metadata": {},
   "outputs": [
    {
     "name": "stdout",
     "output_type": "stream",
     "text": [
      "<re.Match object; span=(0, 4), match='Life'>\n",
      "None\n",
      "<re.Match object; span=(12, 17), match='short'>\n",
      "None\n",
      "<re.Match object; span=(3, 8), match='class'>\n"
     ]
    }
   ],
   "source": [
    "# 굳이 컴파일 안해도 search같은거 쓸수 이씅ㅁ.\n",
    "# ^는 맨처음을 지정\n",
    "print(re.search('^Life', 'Life is too short'))\n",
    "print(re.search('^Life', 'too short'))\n",
    "\n",
    "# $는 맨 끝을 지정\n",
    "print(re.search('short$', 'Life is too short'))\n",
    "print(re.search('short$', 'Life is too'))\n",
    "\n",
    "# \\b 공백\n",
    "print(re.search(r'\\bclass\\b', 'no class at all'))"
   ]
  },
  {
   "cell_type": "code",
   "execution_count": 54,
   "id": "344c5a0e",
   "metadata": {},
   "outputs": [
    {
     "name": "stdout",
     "output_type": "stream",
     "text": [
      "<re.Match object; span=(0, 12), match='ABCABCABCABC'>\n",
      "ABC\n"
     ]
    }
   ],
   "source": [
    "# 그루핑()\n",
    "# ABC+ 하면 C만 반복되는걸 찾지만 (ABC)+하면 ABC가 반복되는걸 매칭함\n",
    "p = re.compile('(ABC)+')\n",
    "s = p.search('ABCABCABCABC ok?')\n",
    "print(s)\n",
    "print(s.group(1))"
   ]
  },
  {
   "cell_type": "code",
   "execution_count": 58,
   "id": "a2223206",
   "metadata": {},
   "outputs": [
    {
     "name": "stdout",
     "output_type": "stream",
     "text": [
      "http\n",
      "['autoexec.jpg', 'autoexec.png']\n"
     ]
    }
   ],
   "source": [
    "# 전방탐색 : 긍정형(?=)\n",
    "# 검색 조건에는 포함되나 결과에는 포함되지 않음.\n",
    "# url에서 http만 빼고싶을때\n",
    "# 모든 문자가 반복되다가 : 을 만나면 거기까지 조건엔 포함 => 결과에는 :을 뺌\n",
    "p = re.compile('.+(?=:)')\n",
    "m = p.match('http://www.naver.com')\n",
    "print(m.group())\n",
    "\n",
    "\n",
    "# 전방탐색 : 부정형(?!)\n",
    "p = re.compile('.*[.](?!bat$|exe$).*$', re.M)\n",
    "l = p.findall(\"\"\"\n",
    "autoexec.exe\n",
    "autoexec.bat\n",
    "autoexec.jpg\n",
    "autoexec.png\n",
    "\n",
    "\"\"\")\n",
    "print(l)"
   ]
  },
  {
   "cell_type": "code",
   "execution_count": 59,
   "id": "2acd0fc0",
   "metadata": {},
   "outputs": [
    {
     "data": {
      "text/plain": [
       "'color socks and color shoes'"
      ]
     },
     "execution_count": 59,
     "metadata": {},
     "output_type": "execute_result"
    }
   ],
   "source": [
    "# 문자열 바꾸기\n",
    "# .sub\n",
    "string = 'blue socks and red shoes'\n",
    "re.sub('(blue|white|red)', 'color',string)"
   ]
  },
  {
   "cell_type": "code",
   "execution_count": 62,
   "id": "0be8261e",
   "metadata": {},
   "outputs": [
    {
     "name": "stdout",
     "output_type": "stream",
     "text": [
      "<html><head><title>Title</title>\n",
      "<html>\n"
     ]
    }
   ],
   "source": [
    "# Greedy VS Non-Greedy\n",
    "s = '<html><head><title>Title</title>'\n",
    "# Greedy : 맨처음 < 과 맨뒤의 > 사이의 모든문자를 . 으로 인식해서 전체를 통으로 match함\n",
    "print(re.match('<.*>',s).group())\n",
    "# Non-Greedy : 최소한의 <만 찾고 끝>\n",
    "print(re.match('<.*?>',s).group())"
   ]
  },
  {
   "cell_type": "code",
   "execution_count": null,
   "id": "74788195",
   "metadata": {},
   "outputs": [],
   "source": []
  }
 ],
 "metadata": {
  "kernelspec": {
   "display_name": "Python 3 (ipykernel)",
   "language": "python",
   "name": "python3"
  },
  "language_info": {
   "codemirror_mode": {
    "name": "ipython",
    "version": 3
   },
   "file_extension": ".py",
   "mimetype": "text/x-python",
   "name": "python",
   "nbconvert_exporter": "python",
   "pygments_lexer": "ipython3",
   "version": "3.9.12"
  }
 },
 "nbformat": 4,
 "nbformat_minor": 5
}
