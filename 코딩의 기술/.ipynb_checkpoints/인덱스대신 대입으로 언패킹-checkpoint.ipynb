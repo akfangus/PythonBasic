{
 "cells": [
  {
   "cell_type": "markdown",
   "id": "0099a3e5",
   "metadata": {},
   "source": [
    "- 불변 순서쌍 Tuple\n",
    "- 가장 짧은 튜플은 딕셔너리의 키-값 쌍과 비슷하게 두값으로 이루어짐"
   ]
  },
  {
   "cell_type": "code",
   "execution_count": 1,
   "id": "2e70a150",
   "metadata": {},
   "outputs": [
    {
     "data": {
      "text/plain": [
       "dict"
      ]
     },
     "execution_count": 1,
     "metadata": {},
     "output_type": "execute_result"
    }
   ],
   "source": [
    "snack_calories = {\n",
    "    '감자칩': 140,\n",
    "    '팝콘': 80,\n",
    "    '땅콩': 190,\n",
    "}\n",
    "type(snack_calories)\n"
   ]
  },
  {
   "cell_type": "code",
   "execution_count": 3,
   "id": "67491f4b",
   "metadata": {},
   "outputs": [
    {
     "data": {
      "text/plain": [
       "{'감자칩': 140, '팝콘': 80, '땅콩': 190}"
      ]
     },
     "execution_count": 3,
     "metadata": {},
     "output_type": "execute_result"
    }
   ],
   "source": [
    "snack_calories"
   ]
  },
  {
   "cell_type": "code",
   "execution_count": 2,
   "id": "ae5a32a7",
   "metadata": {},
   "outputs": [
    {
     "data": {
      "text/plain": [
       "dict_items([('감자칩', 140), ('팝콘', 80), ('땅콩', 190)])"
      ]
     },
     "execution_count": 2,
     "metadata": {},
     "output_type": "execute_result"
    }
   ],
   "source": [
    "snack_calories.items()"
   ]
  },
  {
   "cell_type": "code",
   "execution_count": 4,
   "id": "4fa33bfc",
   "metadata": {},
   "outputs": [
    {
     "name": "stdout",
     "output_type": "stream",
     "text": [
      "(('감자칩', 140), ('팝콘', 80), ('땅콩', 190))\n"
     ]
    }
   ],
   "source": [
    "items = tuple(snack_calories.items())\n",
    "print(items)"
   ]
  },
  {
   "cell_type": "code",
   "execution_count": 5,
   "id": "b4c0372c",
   "metadata": {},
   "outputs": [
    {
     "data": {
      "text/plain": [
       "('감자칩', '팝콘', '땅콩')"
      ]
     },
     "execution_count": 5,
     "metadata": {},
     "output_type": "execute_result"
    }
   ],
   "source": [
    "tuple(snack_calories)"
   ]
  },
  {
   "cell_type": "markdown",
   "id": "c427e11f",
   "metadata": {},
   "source": [
    "- 딕셔너리를 튜플로 변경할때 쌍으로 묶으려면 items()를 넣어야함\n",
    "- 안넣고 딕셔너리 그대로 tuple()해주면 키값만 튜플로 만들어짐\n",
    "<hr>\n",
    "- 튜플에 있 는 값은 숫자 인덱스를 사용해 접근 가능"
   ]
  },
  {
   "cell_type": "code",
   "execution_count": 6,
   "id": "67b4c0d4",
   "metadata": {},
   "outputs": [
    {
     "name": "stdout",
     "output_type": "stream",
     "text": [
      "호박엿 식혜\n"
     ]
    }
   ],
   "source": [
    "item = ('호박엿','식혜')\n",
    "first = item[0]\n",
    "second = item[1]\n",
    "print(first, second)"
   ]
  },
  {
   "cell_type": "markdown",
   "id": "d51bd135",
   "metadata": {},
   "source": [
    "- 튜플은 인덱스를 통해 새로운값을 할당할 수 없음"
   ]
  },
  {
   "cell_type": "markdown",
   "id": "8f612613",
   "metadata": {},
   "source": [
    "- 파이썬 언패킹?\n",
    "- 한문장 안에서 여러개의 변수를 할당할 수 있음."
   ]
  },
  {
   "cell_type": "code",
   "execution_count": 8,
   "id": "e199b13d",
   "metadata": {},
   "outputs": [
    {
     "name": "stdout",
     "output_type": "stream",
     "text": [
      "호박엿 식혜\n"
     ]
    }
   ],
   "source": [
    "'''위에문장처럼 인덱스를 통해서 각각 할당하는것보단\n",
    "언패킹을 통해서 한문장에 할당하는게 효과적임'''\n",
    "item = ('호박엿','식혜')\n",
    "first , second = item\n",
    "print(first, second)"
   ]
  },
  {
   "cell_type": "markdown",
   "id": "b7b31027",
   "metadata": {},
   "source": [
    "- 언패킹을 사용하면 임시변수를 정의하지 않고도 값을 맞바꿀수 있다고함 (temp사용x)\n",
    "- 오름차순 정렬에서 list의 원소를 바꾸는방법을 예로들면"
   ]
  },
  {
   "cell_type": "code",
   "execution_count": 11,
   "id": "da42f671",
   "metadata": {},
   "outputs": [
    {
     "name": "stdout",
     "output_type": "stream",
     "text": [
      "0\n",
      "1\n",
      "2\n",
      "3\n",
      "4\n",
      "5\n",
      "6\n",
      "7\n",
      "8\n",
      "9\n"
     ]
    }
   ],
   "source": [
    "for _ in range(10):\n",
    "    print(_)"
   ]
  },
  {
   "cell_type": "code",
   "execution_count": 12,
   "id": "8a0ab72d",
   "metadata": {},
   "outputs": [
    {
     "name": "stdout",
     "output_type": "stream",
     "text": [
      "['프레즐', '당근', '쑥갓', '베이컨']\n",
      "['당근', '베이컨', '쑥갓', '프레즐']\n"
     ]
    }
   ],
   "source": [
    "# 인덱스, temp 썼을때 bubble sort(x x x x)\n",
    "def bubble_sort(a):\n",
    "    for _ in range(len(a)):\n",
    "        for i in range(1, len(a)):\n",
    "            if a[i] < a[i-1]:\n",
    "                temp = a[i]\n",
    "                a[i] = a[i-1]\n",
    "                a[i-1] = temp\n",
    "                \n",
    "names = ['프레즐','당근','쑥갓','베이컨']\n",
    "print(names)\n",
    "bubble_sort(names)\n",
    "print(names)"
   ]
  },
  {
   "cell_type": "code",
   "execution_count": 13,
   "id": "5746c34e",
   "metadata": {},
   "outputs": [
    {
     "name": "stdout",
     "output_type": "stream",
     "text": [
      "['프레즐', '당근', '쑥갓', '베이컨']\n",
      "['당근', '베이컨', '쑥갓', '프레즐']\n"
     ]
    }
   ],
   "source": [
    "# 언패킹을 썼을때 bubble sort\n",
    "def bubble_sort_unpack(a):\n",
    "    for _ in range(len(a)):\n",
    "        for i in range(1, len(a)):\n",
    "            if a[i] < a[i-1]:\n",
    "                a[i-1], a[i] = a[i], a[i-1] # 언패킹 맞바꾸기\n",
    "names = ['프레즐','당근','쑥갓','베이컨']\n",
    "print(names)\n",
    "bubble_sort_unpack(names)\n",
    "print(names)"
   ]
  },
  {
   "cell_type": "code",
   "execution_count": 20,
   "id": "1362e7a0",
   "metadata": {},
   "outputs": [
    {
     "name": "stdout",
     "output_type": "stream",
     "text": [
      "1 베이컨 350\n",
      "2 도넛 240\n",
      "3 머핀 190\n"
     ]
    }
   ],
   "source": [
    "snacks = [('베이컨',350),('도넛',240),('머핀',190)]\n",
    "snacks\n",
    "\n",
    "for rank, (name, calories) in enumerate(snacks, 1): # 인덱스가 1부터 시작\n",
    "    print(rank, name, calories)"
   ]
  },
  {
   "cell_type": "code",
   "execution_count": null,
   "id": "85fdb0d5",
   "metadata": {},
   "outputs": [],
   "source": []
  }
 ],
 "metadata": {
  "kernelspec": {
   "display_name": "Python 3 (ipykernel)",
   "language": "python",
   "name": "python3"
  },
  "language_info": {
   "codemirror_mode": {
    "name": "ipython",
    "version": 3
   },
   "file_extension": ".py",
   "mimetype": "text/x-python",
   "name": "python",
   "nbconvert_exporter": "python",
   "pygments_lexer": "ipython3",
   "version": "3.9.12"
  }
 },
 "nbformat": 4,
 "nbformat_minor": 5
}
