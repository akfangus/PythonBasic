{
 "cells": [
  {
   "cell_type": "markdown",
   "id": "6af40901",
   "metadata": {},
   "source": [
    "- zip은 둘 이상의 이터레이터를 지연 계산 제너레이터를 사용해 묶어준다.\n",
    "- zip은 각 이터레이터의 다음 값이 들어있는 튜플을 반환한다.\n"
   ]
  },
  {
   "cell_type": "code",
   "execution_count": 1,
   "id": "9fb0cd28",
   "metadata": {},
   "outputs": [],
   "source": [
    "names = ['Ceilia','남궁민수','가나다라마바사아']\n",
    "counts = [len(n) for n in names]"
   ]
  },
  {
   "cell_type": "code",
   "execution_count": 2,
   "id": "a24ed17a",
   "metadata": {},
   "outputs": [
    {
     "data": {
      "text/plain": [
       "(['Ceilia', '남궁민수', '가나다라마바사아'], [6, 4, 8])"
      ]
     },
     "execution_count": 2,
     "metadata": {},
     "output_type": "execute_result"
    }
   ],
   "source": [
    "names, counts"
   ]
  },
  {
   "cell_type": "code",
   "execution_count": 3,
   "id": "5e552904",
   "metadata": {},
   "outputs": [
    {
     "data": {
      "text/plain": [
       "<zip at 0x14869b52800>"
      ]
     },
     "execution_count": 3,
     "metadata": {},
     "output_type": "execute_result"
    }
   ],
   "source": [
    "zip(names, counts)"
   ]
  },
  {
   "cell_type": "code",
   "execution_count": 4,
   "id": "74de5447",
   "metadata": {},
   "outputs": [
    {
     "name": "stdout",
     "output_type": "stream",
     "text": [
      "Ceilia 6\n",
      "남궁민수 4\n",
      "가나다라마바사아 8\n"
     ]
    }
   ],
   "source": [
    "for name, count in zip(names, counts):\n",
    "    print(name, count)"
   ]
  },
  {
   "cell_type": "markdown",
   "id": "6e3ca9c1",
   "metadata": {},
   "source": [
    "- zip으로 묶으려고 하는 이터레이터의 갯수가 다를경우엔 가장 작은 갯수에 맞춰서 저장되어진다."
   ]
  },
  {
   "cell_type": "code",
   "execution_count": 6,
   "id": "0cd8d808",
   "metadata": {},
   "outputs": [
    {
     "name": "stdout",
     "output_type": "stream",
     "text": [
      "['Ceilia', '남궁민수', '가나다라마바사아', '추가', '추가'] [6, 4, 8]\n",
      "Ceilia 6\n",
      "남궁민수 4\n",
      "가나다라마바사아 8\n"
     ]
    }
   ],
   "source": [
    "names.append('추가')\n",
    "print(names, counts)\n",
    "for name, count in zip(names, counts):\n",
    "    print(name, count)"
   ]
  },
  {
   "cell_type": "markdown",
   "id": "8e67ffe9",
   "metadata": {},
   "source": [
    "- 긴 이터레이터(리스트)의 뒷부분을 버리고 싶지 않을때는 itertools 라이브러리를 쓰면 됨.\n"
   ]
  },
  {
   "cell_type": "code",
   "execution_count": 7,
   "id": "7fd2a5d1",
   "metadata": {},
   "outputs": [
    {
     "name": "stdout",
     "output_type": "stream",
     "text": [
      "Ceilia : 6\n",
      "남궁민수 : 4\n",
      "가나다라마바사아 : 8\n",
      "추가 : None\n",
      "추가 : None\n"
     ]
    }
   ],
   "source": [
    "import itertools\n",
    "# 가장 긴 이터레이터를 기준으로하고 없는건 None으로 채움\n",
    "for name, count in itertools.zip_longest(names, counts):\n",
    "    print(f'{name} : {count}')"
   ]
  },
  {
   "cell_type": "code",
   "execution_count": null,
   "id": "43ecfd51",
   "metadata": {},
   "outputs": [],
   "source": []
  }
 ],
 "metadata": {
  "kernelspec": {
   "display_name": "Python 3 (ipykernel)",
   "language": "python",
   "name": "python3"
  },
  "language_info": {
   "codemirror_mode": {
    "name": "ipython",
    "version": 3
   },
   "file_extension": ".py",
   "mimetype": "text/x-python",
   "name": "python",
   "nbconvert_exporter": "python",
   "pygments_lexer": "ipython3",
   "version": "3.9.12"
  }
 },
 "nbformat": 4,
 "nbformat_minor": 5
}
